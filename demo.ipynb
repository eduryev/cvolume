{
 "cells": [
  {
   "cell_type": "markdown",
   "metadata": {},
   "source": [
    "# Welcome to the demo of the `cvolume` package!"
   ]
  },
  {
   "cell_type": "code",
   "execution_count": null,
   "metadata": {},
   "outputs": [],
   "source": [
    "from importlib import reload\n",
    "import cvolume.utils, cvolume.series, cvolume.localpoly, cvolume.stable_graphs, cvolume.cvolume\n",
    "reload(cvolume); reload(cvolume.utils); reload(cvolume.series); reload(cvolume.localpoly)\n",
    "reload(cvolume.stable_graphs), reload(cvolume.cvolume)\n",
    "import cvolume; reload(cvolume);"
   ]
  },
  {
   "cell_type": "code",
   "execution_count": 1,
   "metadata": {},
   "outputs": [],
   "source": [
    "from cvolume import *"
   ]
  },
  {
   "cell_type": "markdown",
   "metadata": {},
   "source": [
    "Let's start by running `MV_volume`, which returns Masur-Veech volume of a stratum, and `completed_volume`, which returns its completed volume."
   ]
  },
  {
   "cell_type": "code",
   "execution_count": null,
   "metadata": {},
   "outputs": [],
   "source": [
    "MV_volume([3,-1,-1,-1])"
   ]
  },
  {
   "cell_type": "code",
   "execution_count": null,
   "metadata": {},
   "outputs": [],
   "source": [
    "completed_volume([3,-1,-1,-1])"
   ]
  },
  {
   "cell_type": "markdown",
   "metadata": {},
   "source": [
    "Interestingly, some empty strata have non-zero completed volume."
   ]
  },
  {
   "cell_type": "code",
   "execution_count": null,
   "metadata": {},
   "outputs": [],
   "source": [
    "stratum = [3,1]\n",
    "print('Masur-Veech volume is:', MV_volume(stratum))\n",
    "print('Completed volume is:  ',completed_volume(stratum))"
   ]
  },
  {
   "cell_type": "markdown",
   "metadata": {},
   "source": [
    "Masur-Veech volume coincides with the completed volume if and only if the stratum is principle. Otherwise Masur-Veech volume is strictly less."
   ]
  },
  {
   "cell_type": "code",
   "execution_count": null,
   "metadata": {},
   "outputs": [],
   "source": [
    "stratum = [1]*3+[-1]*3\n",
    "print('Masur-Veech volume is:', MV_volume(stratum))\n",
    "print('Completed volume is:  ',completed_volume(stratum))"
   ]
  },
  {
   "cell_type": "markdown",
   "metadata": {},
   "source": [
    "Except one case..."
   ]
  },
  {
   "cell_type": "code",
   "execution_count": null,
   "metadata": {},
   "outputs": [],
   "source": [
    "stratum = [-1,1]\n",
    "print('Masur-Veech volume is:', MV_volume(stratum))\n",
    "print('Completed volume is:  ',completed_volume(stratum))"
   ]
  },
  {
   "cell_type": "markdown",
   "metadata": {},
   "source": [
    "Now let's go over the functionality of the package according to the following sections:\n",
    "* **partition functions**\n",
    "* **local polynomials**\n",
    "* **labeled stable graphs**\n",
    "* **volumes**\n",
    "\n",
    "Starting with **partition functions**, `Fs` is an object, which can generate partition functions (both standard and generalized) truncated at a prescribed weight. Let's look at the partition function, the standard one, truncated at weight 10 monomials."
   ]
  },
  {
   "cell_type": "code",
   "execution_count": null,
   "metadata": {},
   "outputs": [],
   "source": [
    "Fs(10)"
   ]
  },
  {
   "cell_type": "code",
   "execution_count": null,
   "metadata": {},
   "outputs": [],
   "source": [
    "Fs.reset()\n",
    "Fs(10)"
   ]
  },
  {
   "cell_type": "markdown",
   "metadata": {},
   "source": [
    "In particular, all coefficients are positive rational numbers, which agrees with the definition.\n",
    "\n",
    "We can also generate $\\partial F/\\partial s_2$ from Arbarello-Cornalba."
   ]
  },
  {
   "cell_type": "code",
   "execution_count": null,
   "metadata": {},
   "outputs": [],
   "source": [
    "Fs(10,(2,))"
   ]
  },
  {
   "cell_type": "markdown",
   "metadata": {},
   "source": [
    "You can notice lots of negative coeficients. They are indeed incorrect due to truncations. However all coefficients of the monomials of weight $\\le 10$ are positive and correct.\n",
    "\n",
    "`Fs` can generate any $\\partial F/\\partial s_*$ that appears in the end of Arbarello-Cornalba paper. Let's try $s = (2,3)$. This can take awhile and `Fs` has `verbose` mode that will let us know approximate wait time. Let's switch it on."
   ]
  },
  {
   "cell_type": "code",
   "execution_count": null,
   "metadata": {},
   "outputs": [],
   "source": [
    "Fs.verbose = True\n",
    "F = Fs(10,(2,3))"
   ]
  },
  {
   "cell_type": "markdown",
   "metadata": {},
   "source": [
    "Sometimes computations are very long, in that case you will get a notification."
   ]
  },
  {
   "cell_type": "code",
   "execution_count": null,
   "metadata": {},
   "outputs": [],
   "source": [
    "F = Fs(15,(2,3))"
   ]
  },
  {
   "cell_type": "markdown",
   "metadata": {},
   "source": [
    "Now that we can generate patition functions, we can use `Nlocal` to produce **local polynomials** $N_{g,n}^{\\kappa}(b_1,\\ldots,b_n)$. Let's start with standard local polynomials:"
   ]
  },
  {
   "cell_type": "code",
   "execution_count": null,
   "metadata": {},
   "outputs": [],
   "source": [
    "Nlocal(1,2,[1,1,1,1])"
   ]
  },
  {
   "cell_type": "code",
   "execution_count": null,
   "metadata": {},
   "outputs": [],
   "source": [
    "Nlocal(0,2,[1,1,-1,-1])"
   ]
  },
  {
   "cell_type": "markdown",
   "metadata": {},
   "source": [
    "We can also produce local polynomials for non-principal strata:"
   ]
  },
  {
   "cell_type": "code",
   "execution_count": null,
   "metadata": {},
   "outputs": [],
   "source": [
    "Nlocal(0,5,[3,1,1,1])"
   ]
  },
  {
   "cell_type": "markdown",
   "metadata": {},
   "source": [
    "And label zeros if needed:"
   ]
  },
  {
   "cell_type": "code",
   "execution_count": null,
   "metadata": {},
   "outputs": [],
   "source": [
    "Nlocal(0,5,[3,1,1,1],labeled=True)"
   ]
  },
  {
   "cell_type": "markdown",
   "metadata": {},
   "source": [
    "Poles can be added too:"
   ]
  },
  {
   "cell_type": "code",
   "execution_count": null,
   "metadata": {},
   "outputs": [],
   "source": [
    "Nlocal(0,4,[3,1,1,-1],labeled=True)"
   ]
  },
  {
   "cell_type": "markdown",
   "metadata": {},
   "source": [
    "Presence of poles makes computation a bit longer due to recursive procedure involved:"
   ]
  },
  {
   "cell_type": "code",
   "execution_count": null,
   "metadata": {},
   "outputs": [],
   "source": [
    "%timeit Nlocal(0,5,[3,1,1,1],labeled=True)\n",
    "%timeit Nlocal(0,4,[3,1,1,-1],labeled=True)"
   ]
  },
  {
   "cell_type": "code",
   "execution_count": null,
   "metadata": {},
   "outputs": [],
   "source": [
    "Fs.verbose = False\n",
    "Nlocal(0,7,[5,3,1,1])"
   ]
  },
  {
   "cell_type": "markdown",
   "metadata": {},
   "source": [
    "The next step would be to generate **labeled stable graphs** using `stable_graphs`."
   ]
  },
  {
   "cell_type": "code",
   "execution_count": null,
   "metadata": {},
   "outputs": [],
   "source": [
    "stable_lab_graphs([3,1,1,-1])"
   ]
  },
  {
   "cell_type": "code",
   "execution_count": null,
   "metadata": {},
   "outputs": [],
   "source": [
    "stable_lab_graphs([3,1,1,-1], by_codim=True)"
   ]
  },
  {
   "cell_type": "markdown",
   "metadata": {},
   "source": [
    "We can take a closer look at a labeled stable graph. For example, we can ask about the number of it automorphisms."
   ]
  },
  {
   "cell_type": "code",
   "execution_count": null,
   "metadata": {},
   "outputs": [],
   "source": [
    "graph = list(stable_lab_graphs([3,1,1,1,1,1]))[20]\n",
    "print(graph)\n",
    "print('Number of automorphisms:', graph.Aut())"
   ]
  },
  {
   "cell_type": "markdown",
   "metadata": {},
   "source": [
    "Not it's time to compute some **volumes**. Each labeled stable graph contributes to completed volume with its polynomial evaluted by $\\mathcal{Z}$ operator. We can compute polynomial contrbution of any individual stable graph:"
   ]
  },
  {
   "cell_type": "code",
   "execution_count": null,
   "metadata": {},
   "outputs": [],
   "source": [
    "graph_poly(graph)"
   ]
  },
  {
   "cell_type": "markdown",
   "metadata": {},
   "source": [
    "Applying $\\mathcal{Z}$ operator we obtain numeric contribtion of an individual stable graph."
   ]
  },
  {
   "cell_type": "code",
   "execution_count": null,
   "metadata": {},
   "outputs": [],
   "source": [
    "operator(graph_poly(graph))"
   ]
  },
  {
   "cell_type": "markdown",
   "metadata": {},
   "source": [
    "Combining everything discussed so far, we sum numeric contributions of all labeled stable graphs for a given stratum to obtain its completed volume. This procedure is implemented in `completed_volume`:"
   ]
  },
  {
   "cell_type": "code",
   "execution_count": null,
   "metadata": {},
   "outputs": [],
   "source": [
    "completed_volume([3,1,1,-1])"
   ]
  },
  {
   "cell_type": "code",
   "execution_count": null,
   "metadata": {},
   "outputs": [],
   "source": [
    "completed_volume([5,1,1,1,1,-1])"
   ]
  },
  {
   "cell_type": "markdown",
   "metadata": {},
   "source": [
    "Some calculations take awhile due to large number of stable graphs, to keep track we use `verbose` mode."
   ]
  },
  {
   "cell_type": "code",
   "execution_count": null,
   "metadata": {},
   "outputs": [],
   "source": [
    "completed_volume([5,1,1,1,1,1,1,1,1,-1],verbose=True)"
   ]
  },
  {
   "cell_type": "markdown",
   "metadata": {},
   "source": [
    "In some cases additional complexity comes from generating partitions functions. We might want to track that to using `verbose` mode of `Fs`."
   ]
  },
  {
   "cell_type": "code",
   "execution_count": null,
   "metadata": {},
   "outputs": [],
   "source": [
    "Fs.verbose = True\n",
    "completed_volume([5,3,1,1,1,1],verbose=True)"
   ]
  },
  {
   "cell_type": "markdown",
   "metadata": {},
   "source": [
    "And finally, the **Masur-Veech volumes** of strata of quadratic differentials with odd zeroes. What do we know about them? First, due to the results of Delecroix-Goujard-Zograf-Zorich and Kazarian Masur-Veech volumes of principal strata can be computed very quickly via recursion. We use `MV_volume` for that:"
   ]
  },
  {
   "cell_type": "code",
   "execution_count": null,
   "metadata": {},
   "outputs": [],
   "source": [
    "MV_volume([1,1,1,1])"
   ]
  },
  {
   "cell_type": "code",
   "execution_count": null,
   "metadata": {},
   "outputs": [],
   "source": [
    "MV_volume([1]*100+[-1]*40)"
   ]
  },
  {
   "cell_type": "markdown",
   "metadata": {},
   "source": [
    "Second, for non-principal strata, a number of volumes was computed by Elise Goujard using representation theory of symetric groups. We can retrieve her results by again using `MV_volume`."
   ]
  },
  {
   "cell_type": "code",
   "execution_count": null,
   "metadata": {},
   "outputs": [],
   "source": [
    "MV_volume([5,-1])"
   ]
  },
  {
   "cell_type": "code",
   "execution_count": null,
   "metadata": {},
   "outputs": [],
   "source": [
    "MV_volume([11,1,1,-1])"
   ]
  },
  {
   "cell_type": "markdown",
   "metadata": {},
   "source": [
    "Third, for strata $[3,1^m,-1^n]$ and $[5,1^m,-1^n]$ we can use formula relating completed volumes to Masur-Veech volumes. Here is an example of such computation for previously unknown volume."
   ]
  },
  {
   "cell_type": "code",
   "execution_count": null,
   "metadata": {},
   "outputs": [],
   "source": [
    "MV_volume([3]+[1]*8+[-1]*3,verbose=True)"
   ]
  },
  {
   "cell_type": "code",
   "execution_count": null,
   "metadata": {},
   "outputs": [],
   "source": [
    "MV_volume([3]+[1]*6+[-1]*5,verbose=True)"
   ]
  },
  {
   "cell_type": "markdown",
   "metadata": {},
   "source": [
    "There are similar formulae for other strata, but they stay conjectural. To see results they give we can use `MV_volume` in `conjecture` mode. Here we can see that conjectural formulae give correct results on volumes previously computed by Elise:"
   ]
  },
  {
   "cell_type": "code",
   "execution_count": 3,
   "metadata": {},
   "outputs": [
    {
     "name": "stdout",
     "output_type": "stream",
     "text": [
      "17/216*pi^8\n",
      "17/216*pi^8\n"
     ]
    }
   ],
   "source": [
    "print(MV_volume([5,3,1,-1],mode='conjecture'))\n",
    "print(MV_volume([5,3,1,-1]))"
   ]
  },
  {
   "cell_type": "code",
   "execution_count": 4,
   "metadata": {},
   "outputs": [
    {
     "name": "stdout",
     "output_type": "stream",
     "text": [
      "429/1400*pi^8\n",
      "429/1400*pi^8\n"
     ]
    }
   ],
   "source": [
    "print(MV_volume([7,1,-1,-1,-1,-1],mode='conjecture'))\n",
    "print(MV_volume([7,1,-1,-1,-1,-1]))"
   ]
  },
  {
   "cell_type": "markdown",
   "metadata": {},
   "source": [
    "We conclude by mentioning an asymptotics conjecture on the volumes stated by Aggarwal-Delecroix-Goujard-Zograf-Zorich. The conjecture says that with some restrictions on the number of poles asymptotically the Masur-Veech volume: $$\\mathrm{Vol}([d_1,\\ldots,d_n]) \\sim \\frac{4}{\\pi} \\prod\\frac{2^{d_i+2}}{d_i+2}$$\n",
    "\n",
    "Function `asymptotic_volume` returns conjectural asymptotic volume of the stratum. We use it to support the conjecture."
   ]
  },
  {
   "cell_type": "code",
   "execution_count": 8,
   "metadata": {},
   "outputs": [
    {
     "name": "stdout",
     "output_type": "stream",
     "text": [
      "1098.8382130536772\n",
      "1073.5666818245843\n",
      "55565.94223046742\n",
      "54577.77151085719\n"
     ]
    }
   ],
   "source": [
    "print(float(asymptotic_volume([3,1,1,1,1,1])))\n",
    "print(float(MV_volume([3,1,1,1,1,1])))\n",
    "print(float(asymptotic_volume([3,1,1,1,1,1,1,1,1,1])))\n",
    "print(float(MV_volume([3,1,1,1,1,1,1,1,1,1])))"
   ]
  },
  {
   "cell_type": "code",
   "execution_count": null,
   "metadata": {},
   "outputs": [],
   "source": []
  }
 ],
 "metadata": {
  "kernelspec": {
   "display_name": "Python 3",
   "language": "python",
   "name": "python3"
  },
  "language_info": {
   "codemirror_mode": {
    "name": "ipython",
    "version": 3
   },
   "file_extension": ".py",
   "mimetype": "text/x-python",
   "name": "python",
   "nbconvert_exporter": "python",
   "pygments_lexer": "ipython3",
   "version": "3.7.3"
  }
 },
 "nbformat": 4,
 "nbformat_minor": 2
}
