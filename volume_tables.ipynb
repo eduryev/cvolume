{
 "cells": [
  {
   "cell_type": "code",
   "execution_count": 2,
   "metadata": {},
   "outputs": [],
   "source": [
    "from importlib import reload\n",
    "import cvolume.utils, cvolume.series, cvolume.localpoly, cvolume.stable_graphs, cvolume.cvolume\n",
    "reload(cvolume); reload(cvolume.utils); reload(cvolume.series); reload(cvolume.localpoly)\n",
    "reload(cvolume.stable_graphs), reload(cvolume.cvolume)\n",
    "import cvolume; reload(cvolume);"
   ]
  },
  {
   "cell_type": "code",
   "execution_count": 3,
   "metadata": {},
   "outputs": [],
   "source": [
    "from sage.misc.sageinspect import sage_getdoc\n",
    "from sage.symbolic.constants import pi\n",
    "from sage.rings.integer_ring import ZZ\n",
    "from cvolume import *\n",
    "from cvolume.series import Fs\n",
    "from cvolume.cvolume import volumes_dict, cvolumes_dict, conjvolumes_dict\n",
    "from cvolume.utils import stratum2print as s2p"
   ]
  },
  {
   "cell_type": "code",
   "execution_count": 5,
   "metadata": {
    "collapsed": true
   },
   "outputs": [
    {
     "name": "stdout",
     "output_type": "stream",
     "text": [
      "\u001b[33mpip is configured with locations that require TLS/SSL, however the ssl module in Python is not available.\u001b[0m\n",
      "Processing ./prettytable\n",
      "Requirement already satisfied: setuptools in /Applications/SageMath-9.1.app/Contents/Resources/sage/local/lib/python3.7/site-packages (from prettytable==1.0.1) (40.6.3)\n",
      "Requirement already satisfied: wcwidth in /Applications/SageMath-9.1.app/Contents/Resources/sage/local/lib/python3.7/site-packages (from prettytable==1.0.1) (0.1.7)\n",
      "Installing collected packages: prettytable\n",
      "  Found existing installation: prettytable 1.0.1\n",
      "    Uninstalling prettytable-1.0.1:\n",
      "      Successfully uninstalled prettytable-1.0.1\n",
      "  Running setup.py install for prettytable ... \u001b[?25ldone\n",
      "\u001b[?25hSuccessfully installed prettytable-1.0.1\n",
      "\u001b[33mpip is configured with locations that require TLS/SSL, however the ssl module in Python is not available.\u001b[0m\n",
      "Could not fetch URL https://pypi.org/simple/pip/: There was a problem confirming the ssl certificate: HTTPSConnectionPool(host='pypi.org', port=443): Max retries exceeded with url: /simple/pip/ (Caused by SSLError(\"Can't connect to HTTPS URL because the SSL module is not available.\")) - skipping\n"
     ]
    }
   ],
   "source": [
    "!pip install ./prettytable;\n",
    "from prettytable import PrettyTable\n",
    "import pickle"
   ]
  },
  {
   "cell_type": "code",
   "execution_count": 6,
   "metadata": {},
   "outputs": [],
   "source": [
    "def show_strata(higher_part, num):\n",
    "    higher_part = sorted(higher_part,reverse=True)\n",
    "    kappa = sum(higher_part)\n",
    "    l = len(higher_part)\n",
    "    s = kappa//4\n",
    "    eps = 4*(s+1)-kappa\n",
    "    f = 2*(s+1)+eps+l\n",
    "    ans = []\n",
    "    min_d = max(2-f%2,f+6*(-s-2))\n",
    "    count = 0\n",
    "    for d in range(min_d,min_d+2*num,2):\n",
    "        for k in range(-s-2,(d-f)//6+1):\n",
    "            n = (d-f)//2-3*k\n",
    "            m = n + eps + 4*k\n",
    "            g = (kappa+m-n+4)//4\n",
    "            stratum = higher_part + [1]*m + [-1]*n\n",
    "            if m >= 0 and n >= 0 and (kappa+m-n)%4==0 and g >= 0:\n",
    "                ans.append((d,g,stratum,s2p(stratum)))\n",
    "                count += 1\n",
    "            if count >= num: break\n",
    "        if count >= num: break\n",
    "    return sorted(ans,key = lambda x : (x[1],x[0],-x[2].count(-1)))\n",
    "\n",
    "def get_local_dicts():\n",
    "    with open('cvolume/volumes.pkl','rb') as d:\n",
    "        local_volumes = pickle.load(d)\n",
    "    with open('cvolume/cvolumes.pkl','rb') as d:\n",
    "        local_cvolumes = pickle.load(d)\n",
    "    with open('cvolume/ovolumes.pkl','rb') as d:\n",
    "        local_ovolumes = pickle.load(d)\n",
    "    with open('cvolume/conjvolumes.pkl','rb') as d:\n",
    "        local_conjvolumes = pickle.load(d)\n",
    "    return local_volumes,local_cvolumes,local_ovolumes,local_conjvolumes\n",
    "\n",
    "def update_local_dicts(local_volumes,local_cvolumes,local_ovolumes,local_conjvolumes):\n",
    "    for stratum in set(volumes_dict.keys())-set(local_volumes.keys()):\n",
    "        local_volumes[stratum] = volumes_dict[stratum][0]\n",
    "    for stratum in set(cvolumes_dict.keys())-set(local_cvolumes.keys()):\n",
    "        local_cvolumes[stratum] = cvolumes_dict[stratum]\n",
    "    for stratum in set(conjvolumes_dict.keys())-set(local_conjvolumes.keys()):\n",
    "        local_conjvolumes[stratum] = conjvolumes_dict[stratum]\n",
    "    with open('cvolume/volumes.pkl','wb') as d:\n",
    "        pickle.dump(local_volumes,d)\n",
    "    with open('cvolume/cvolumes.pkl','wb') as d:\n",
    "        pickle.dump(local_cvolumes,d)\n",
    "    with open('cvolume/ovolumes.pkl','wb') as d:\n",
    "        pickle.dump(local_ovolumes,d)\n",
    "    with open('cvolume/conjvolumes.pkl','wb') as d:\n",
    "        pickle.dump(local_conjvolumes,d)\n",
    "        \n",
    "def record_volumes(higher_part,table,num,mode='default'):\n",
    "    strata = show_strata(higher_part,10*num)\n",
    "    count = 0\n",
    "    local_volumes,local_cvolumes,local_ovolumes,local_conjvolumes = get_local_dicts()\n",
    "    for d,g,stratum,pretty_stratum in strata:\n",
    "        if stratum.count(-1) <= g:\n",
    "            stratum = sorted(stratum,reverse=True)\n",
    "            a_volume = asymptotic_volume(stratum)\n",
    "            if tuple(stratum) in local_cvolumes:\n",
    "                c_volume = local_cvolumes[tuple(stratum)]\n",
    "            else:\n",
    "                c_volume = completed_volume(stratum,verbose=True)\n",
    "            if tuple(stratum) in local_ovolumes:\n",
    "                ov_volume = local_ovolumes[tuple(stratum)]\n",
    "            else:\n",
    "                ov_volume = completed_volume(stratum,one_vertex=True)\n",
    "                local_ovolumes[tuple(stratum)] = ov_volume\n",
    "            if tuple(stratum) in local_volumes:\n",
    "                volume = local_volumes[tuple(stratum)]\n",
    "            elif mode == 'conjecture' and tuple(stratum) in local_conjvolumes:\n",
    "                volume = local_conjvolumes[tuple(stratum)]\n",
    "            else:\n",
    "                volume = MV_volume(stratum,mode=mode)                \n",
    "            numbers = [volume,c_volume,a_volume,volume/a_volume,c_volume/a_volume,volume/c_volume,ov_volume/c_volume]\n",
    "            row = [g,d,pretty_stratum] + [f'{float(number):.3f}' for number in numbers]\n",
    "            table.add_row(row)\n",
    "            count += 1\n",
    "            if count >= num:\n",
    "                break\n",
    "    update_local_dicts(local_volumes,local_cvolumes,local_ovolumes,local_conjvolumes)"
   ]
  },
  {
   "cell_type": "code",
   "execution_count": null,
   "metadata": {},
   "outputs": [
    {
     "name": "stdout",
     "output_type": "stream",
     "text": [
      "Notation:\n",
      "Vol     Masur-Veech volume               g    genus\n",
      "cVol    completed volume                 d    dimension\n",
      "aVol    conjectural asymptotic volume\n",
      "oVol    one-vertex graphs contribution\n",
      "Strata [3,1,...]:\n",
      "Computing completed volume of stratum [3,1^12,-1^3]...\n",
      "Generated 14  codimension 1 graphs in 0.029 s\n",
      "Generated 109 codimension 2 graphs in 0.307 s\n",
      "Generated 599 codimension 3 graphs in 2.126 s\n",
      "Generated 2497 codimension 4 graphs in 9.621 s\n",
      "Generated 7940 codimension 5 graphs in 40.248 s\n",
      "Generated 19141 codimension 6 graphs in 1 min 56.981 s\n",
      "Generated 34182 codimension 7 graphs in 4 min 24.442 s\n",
      "Generated 43629 codimension 8 graphs in 5 min 41.697 s\n",
      "Generated 37557 codimension 9 graphs in 6 min 8.269 s\n",
      "Generated 19554 codimension 10 graphs in 4 min 24.579 s\n",
      "Generated 4718 codimension 11 graphs in 1 min 27.551 s\n",
      "The total number of stable graphs for stratum [3,1^12,-1^3] is: 169940. Generated in: 24 min 56.031 s\n",
      "Computed contribution of 120660/169940 graphs. Time elapsed: 73 min 29.547 s. ETA: 30 min 0.949 ss"
     ]
    }
   ],
   "source": [
    "print('Notation:')\n",
    "print('Vol     Masur-Veech volume'.ljust(40),'g    genus')\n",
    "print('cVol    completed volume'.ljust(40),'d    dimension')\n",
    "print('aVol    conjectural asymptotic volume')\n",
    "print('oVol    one-vertex graphs contribution')\n",
    "\n",
    "print('Strata [3,1,...]:')\n",
    "table = PrettyTable(['g','dim','stratum','Vol','cVol','aVol','Vol/aVol','cVol/aVol','Vol/cVol','oVol/cVol'])\n",
    "record_volumes([3],table,11)\n",
    "print(table)\n",
    "\n",
    "print('Strata [5,1,...]:')\n",
    "table = PrettyTable(['g','dim','stratum','Vol','cVol','aVol','Vol/aVol','cVol/aVol','Vol/cVol','oVol/cVol'])\n",
    "record_volumes([5],table,10)\n",
    "print(table)\n",
    "\n",
    "print('Strata [5,3,1,...]:')\n",
    "table = PrettyTable(['g','dim','stratum','Vol','cVol','aVol','Vol/aVol','cVol/aVol','Vol/cVol','oVol/cVol'])\n",
    "record_volumes([5,3],table,7,mode='conjecture')\n",
    "print(table)"
   ]
  },
  {
   "cell_type": "code",
   "execution_count": 8,
   "metadata": {},
   "outputs": [],
   "source": [
    "Fs.verbose=True"
   ]
  }
 ],
 "metadata": {
  "kernelspec": {
   "display_name": "Python 3",
   "language": "python",
   "name": "python3"
  },
  "language_info": {
   "codemirror_mode": {
    "name": "ipython",
    "version": 3
   },
   "file_extension": ".py",
   "mimetype": "text/x-python",
   "name": "python",
   "nbconvert_exporter": "python",
   "pygments_lexer": "ipython3",
   "version": "3.7.3"
  }
 },
 "nbformat": 4,
 "nbformat_minor": 2
}
